{
  "metadata": {
    "kernelspec": {
      "name": "python",
      "display_name": "Python (Pyodide)",
      "language": "python"
    },
    "language_info": {
      "codemirror_mode": {
        "name": "python",
        "version": 3
      },
      "file_extension": ".py",
      "mimetype": "text/x-python",
      "name": "python",
      "nbconvert_exporter": "python",
      "pygments_lexer": "ipython3",
      "version": "3.8"
    }
  },
  "nbformat_minor": 5,
  "nbformat": 4,
  "cells": [
    {
      "id": "a11e5575-a860-4c50-9543-831946a508eb",
      "cell_type": "markdown",
      "source": "## Reputation monitoring system",
      "metadata": {}
    },
    {
      "id": "ab024f51-7e97-4b08-8afa-057be261c1bb",
      "cell_type": "markdown",
      "source": "Instructions:\n\nFor each of the four code cells below, click on the cell then hit Shift+Enter on your keyboard to run the code (or if on a mobile device, press 'play' button).\nOptionally edit the reviews in Code cell 2, and try again (rerun the 2nd, 3rd and 4th code cells)!",
      "metadata": {}
    },
    {
      "id": "9b8a1fef-69e5-4fd1-87de-d35c3da60aef",
      "cell_type": "markdown",
      "source": "Code cell 1: Set up programming environment to use code to send prompts to OpenAI's cloud-hosted service.",
      "metadata": {}
    },
    {
      "id": "5c5dd57e-2c4b-48de-8367-9cb093b35732",
      "cell_type": "code",
      "source": "import openai\nimport os \n\nopenai.api_key = os.getenv(\"OPENAI_API_KEY\")\n\ndef llm_response(prompt):\n    response = openai.ChatCompletion.create(\n        model='gpt-3.5-turbo',\n        messages=[{'role':'user','content':prompt}],\n        temperature=0\n    )\n    return response.choices[0].message['content']",
      "metadata": {
        "trusted": true
      },
      "outputs": [],
      "execution_count": null
    },
    {
      "id": "c6a94deb-7679-4445-b9bf-38518e55473a",
      "cell_type": "markdown",
      "source": "Code cell 2: Create a list of reviews.",
      "metadata": {}
    },
    {
      "id": "55fac0db-7164-4335-a4b8-b8d8a6b0b28b",
      "cell_type": "code",
      "source": "all_reviews = [\n    'The mochi is excellent!',\n    'Best soup dumplings I have ever eaten.',\n    'Not worth the 3 month wait for a reservation.',\n    'The colorful tablecloths made me smile!',\n    'The pasta was cold.'\n]\n\nall_reviews",
      "metadata": {
        "trusted": true
      },
      "outputs": [],
      "execution_count": null
    },
    {
      "id": "63641cad-3979-459d-bde7-52f5e9b91c14",
      "cell_type": "markdown",
      "source": "Code cell 3: Classify the reviews as positive or negative.",
      "metadata": {}
    },
    {
      "id": "17922984-f86a-4b9f-827d-6239ed35f5c6",
      "cell_type": "code",
      "source": "all_sentiments = []\nfor review in all_reviews:\n    prompt = f'''\n        Classify the following review \n        as having either a positive or\n        negative sentiment. State your answer\n        as a single word, either \"positive\" or\n        \"negative\":\n\n        {review}\n        '''\n    response = llm_response(prompt)\n    all_sentiments.append(response)\n\nall_sentiments",
      "metadata": {
        "trusted": true
      },
      "outputs": [],
      "execution_count": null
    },
    {
      "id": "02d22152-6e18-4620-99a6-777aaaa558cf",
      "cell_type": "markdown",
      "source": "Code cell 4: Count the number of positive and negative reviews",
      "metadata": {}
    },
    {
      "id": "d0881f2b-9735-4e3f-83e8-57323c0585d1",
      "cell_type": "code",
      "source": "num_positive = 0\nnum_negative = 0\nfor sentiment in all_sentiments:\n    if sentiment == 'positive':\n        num_positive += 1\n    elif sentiment == 'negative':\n        num_negative += 1\nprint(f\"There are {num_positive} positive and {num_negative} negative reviews.\")",
      "metadata": {
        "trusted": true
      },
      "outputs": [],
      "execution_count": null
    }
  ]
}

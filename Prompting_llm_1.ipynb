{
  "metadata": {
    "kernelspec": {
      "name": "python",
      "display_name": "Python (Pyodide)",
      "language": "python"
    },
    "language_info": {
      "codemirror_mode": {
        "name": "python",
        "version": 3
      },
      "file_extension": ".py",
      "mimetype": "text/x-python",
      "name": "python",
      "nbconvert_exporter": "python",
      "pygments_lexer": "ipython3",
      "version": "3.8"
    }
  },
  "nbformat_minor": 5,
  "nbformat": 4,
  "cells": [
    {
      "id": "30a6b3db-43d3-4698-9660-a8fb123102cf",
      "cell_type": "markdown",
      "source": "# Prompting an LLM in code",
      "metadata": {}
    },
    {
      "id": "a3063ff6-8125-43d1-872c-ed199a3920da",
      "cell_type": "markdown",
      "source": "Instructions:\n\nFor each of the two code cells below, click on the cell then hit Shift+Enter on your keyboard to run the code (or if on a mobile device, press 'play' button).\nOptionally edit the prompt, and try again!",
      "metadata": {}
    },
    {
      "id": "d05262e3-2676-46dd-9c6a-b6e934c75a12",
      "cell_type": "markdown",
      "source": "Code cell 1: Set up programming environment to use code to send prompts to OpenAI's cloud-hosted service.",
      "metadata": {}
    },
    {
      "id": "011be555-e149-4809-8cef-9beda90bd65c",
      "cell_type": "code",
      "source": "import openai\nimport os\n\nopenai.api_key = os.getenv(\"OPENAI_API_KEY\")\n\ndef llm_response(prompt):\n    response = openai.ChatCompletion.create(\n        model='gpt-3.5-turbo',\n        messages=[{'role':'user','content':prompt}],\n        temperature=0\n    )\n    return response.choices[0].message['content']",
      "metadata": {
        "trusted": true
      },
      "outputs": [],
      "execution_count": null
    },
    {
      "id": "636272a1-5c92-41f1-bbfe-7b8c48ab85c6",
      "cell_type": "markdown",
      "source": "Code cell 2: Define a prompt that will classify the sentiment of a restaurant review.",
      "metadata": {}
    },
    {
      "id": "64fd9325-32a8-40b0-9b3d-6fd39772ca4f",
      "cell_type": "code",
      "source": "prompt = '''\n    Classify the following review \n    as having either a positive or\n    negative sentiment:\n\n    The banana pudding was really tasty!\n'''\n\nresponse = llm_response(prompt)\nprint(response)",
      "metadata": {
        "trusted": true
      },
      "outputs": [],
      "execution_count": null
    },
    {
      "id": "991f34d8-f4dd-4d7e-a3f3-df618a24d0fa",
      "cell_type": "code",
      "source": "",
      "metadata": {
        "trusted": true
      },
      "outputs": [],
      "execution_count": null
    }
  ]
}